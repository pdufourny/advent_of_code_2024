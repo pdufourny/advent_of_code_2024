{
 "cells": [
  {
   "cell_type": "code",
   "execution_count": 1,
   "id": "1b49d187",
   "metadata": {},
   "outputs": [
    {
     "name": "stdout",
     "output_type": "stream",
     "text": [
      "['7 6 4 2 1', '1 2 7 8 9', '9 7 6 2 1', '1 3 2 4 5', '8 6 4 4 1', '1 3 6 7 9']\n"
     ]
    }
   ],
   "source": [
    "lst_ = []\n",
    "\n",
    "file1 = open(\"file1.txt\")\n",
    "lst_ = file1.readlines()\n",
    "file1.close\n",
    "\n",
    "liste_1 = [element.strip()   for element in lst_]\n",
    "\n",
    "print(liste_1)"
   ]
  },
  {
   "cell_type": "code",
   "execution_count": 21,
   "id": "ffe4e26c",
   "metadata": {},
   "outputs": [
    {
     "name": "stdout",
     "output_type": "stream",
     "text": [
      "['7', '6', '4', '2', '1']\n",
      "After cleaning : status_liste_1[i] = 'bad_deltas'  i = 0: ['7', '6', '4', '2', '1']\n",
      "['1', '2', '7', '8', '9']\n",
      "After cleaning : status_liste_1[i] = 'bad_deltas'  i = 1: ['1', '2', '7', '8', '9']\n",
      "['9', '7', '6', '2', '1']\n",
      "After cleaning : status_liste_1[i] = 'bad_deltas'  i = 2: ['9', '7', '6', '2', '1']\n",
      "['1', '3', '2', '4', '5']\n",
      "After cleaning : status_liste_1[i] = 'bad_deltas'  i = 3: ['1', '3', '2', '4', '5']\n",
      "['8', '6', '4', '4', '1']\n",
      "After cleaning : status_liste_1[i] = 'bad_deltas'  i = 4: ['8', '6', '4', '4', '1']\n",
      "['1', '3', '6', '7', '9']\n",
      "After cleaning : status_liste_1[i] = 'bad_deltas'  i = 5: ['1', '3', '6', '7', '9']\n"
     ]
    },
    {
     "ename": "TypeError",
     "evalue": "'list' object cannot be interpreted as an integer",
     "output_type": "error",
     "traceback": [
      "\u001b[0;31m---------------------------------------------------------------------------\u001b[0m",
      "\u001b[0;31mTypeError\u001b[0m                                 Traceback (most recent call last)",
      "Cell \u001b[0;32mIn[21], line 48\u001b[0m\n\u001b[1;32m     44\u001b[0m             \u001b[38;5;28;01mbreak\u001b[39;00m                   \n\u001b[1;32m     45\u001b[0m     \u001b[38;5;28mprint\u001b[39m(\u001b[38;5;124mf\u001b[39m\u001b[38;5;124m\"\u001b[39m\u001b[38;5;124mAfter cleaning : \u001b[39m\u001b[38;5;132;01m{\u001b[39;00mstatus_liste_1[i]\u001b[38;5;250m \u001b[39m\u001b[38;5;132;01m= }\u001b[39;00m\u001b[38;5;124m  \u001b[39m\u001b[38;5;132;01m{\u001b[39;00mi\u001b[38;5;250m \u001b[39m\u001b[38;5;132;01m= }\u001b[39;00m\u001b[38;5;124m: \u001b[39m\u001b[38;5;132;01m{\u001b[39;00mst\u001b[38;5;132;01m}\u001b[39;00m\u001b[38;5;124m\"\u001b[39m )\n\u001b[0;32m---> 48\u001b[0m \u001b[38;5;28;01mfor\u001b[39;00m i \u001b[38;5;129;01min\u001b[39;00m \u001b[38;5;28;43mrange\u001b[39;49m\u001b[43m(\u001b[49m\u001b[43mliste_1\u001b[49m\u001b[43m)\u001b[49m:\n\u001b[1;32m     49\u001b[0m     nb_delta \u001b[38;5;241m=\u001b[39m\u001b[38;5;241m0\u001b[39m\n\u001b[1;32m     50\u001b[0m     nb_chgt_sgn \u001b[38;5;241m=\u001b[39m \u001b[38;5;241m0\u001b[39m\n",
      "\u001b[0;31mTypeError\u001b[0m: 'list' object cannot be interpreted as an integer"
     ]
    }
   ],
   "source": [
    "\"\"\"        \n",
    "    def get_sgn(st):\n",
    "        deb = int(st[0])\n",
    "        for i in range(1,len(st)-1):\n",
    "            if deb < int(st[i]) :\n",
    "                sgn = \"+\"\n",
    "                break\n",
    "            elif deb > int(st[i]) :\n",
    "                sgn = \"-\"\n",
    "                break\n",
    "            else sgn = \"=\"\n",
    "        return sgn\n",
    "\"\"\"        \n",
    "    \n",
    "    \n",
    "lst_ok = []\n",
    "status_liste_1 = []\n",
    "status_liste_1.append(\"\")\n",
    "\n",
    "# status_liste_1   in 2Bprocessed, clean_delta, cleaned_once , verified_ok , bad_deltas \n",
    "\n",
    "for i in range(len(liste_1)):\n",
    "    st = liste_1[i].split()\n",
    "    status_liste_1.append(\"\")\n",
    "    print(st)\n",
    "    status_liste_1[i] = \"2Bprocessed\"\n",
    "    ec = int(st[0])\n",
    "    for j in range(1,len(st)):\n",
    "        if abs(ec-int(st[j]))>3 and status_liste_1[i] != \"cleaned_once\":\n",
    "            print(f\"\\t {ec=} vs {st[j]=} dep={j} {nb_error=} delta >3\")\n",
    "            status_liste_1[i] = \"cleaned_once\"\n",
    "            st.pop(j-1)\n",
    "            print(f\" After pop : {st=}\")\n",
    "        else:\n",
    "            status_liste_1[i] = \"bad_deltas\"\n",
    "            break\n",
    "            \n",
    "        if abs(ec-int(st[j]))== 0 and status_liste_1[i] != \"cleaned_once\":  \n",
    "            status_liste_1[j-1] = \"cleaned_once\"\n",
    "            st.pop(j-1)\n",
    "            print(f\" After pop : {st=}\")\n",
    "        else:\n",
    "            status_liste_1[i] = \"bad_deltas\"\n",
    "            break                   \n",
    "    print(f\"After cleaning : {status_liste_1[i] = }  {i = }: {st}\" )\n",
    "\n",
    "          \n",
    "for i in range(liste_1):\n",
    "    nb_delta =0\n",
    "    nb_chgt_sgn = 0\n",
    "    ec = int(st[0])\n",
    "    for j in range(1,len(st)):\n",
    "        bak_st = st\n",
    "        if abs(ec-int(st[j]))>3:\n",
    "            nb_delta +=10\n",
    "            print(f\"\\t {ec=} vs {st[j]=} dep={j} {nb_error=} delta >3\")\n",
    "        elif abs(ec-int(st[j]))== 0:  \n",
    "            nb_delta +=1\n",
    "            print(f\"\\t {ec=} vs {st[j]=} dep={j} {nb_error=} delta = 0\") \n",
    "        if (ec-int(st[j])<0 ):\n",
    "            print(f\"\\tchgt de signe : + {ec = }  {st[j] = }\")\n",
    "            nb_chgt_sgn +=1\n",
    "        elif (ec-int(st[j])>0 ):\n",
    "            print(f\"\\tchgt de signe : - {ec = }  {st[j] = }\")\n",
    "            nb_chgt_sgn -=1\n",
    "        ec = int(st[j])\n",
    "    \n",
    "    print(f\"{nb_delta = } {nb_chgt_sgn = }  {len(st)=}   delta_total = {nb_delta + len(st)-1-abs(nb_chgt_sgn)}\")\n",
    "    if  (nb_delta + len(st)-1 - abs(nb_chgt_sgn)  )  <= 1 : \n",
    "        #print(f\"Fin de ligne : {st[j]=}\")\n",
    "        lst_ok.append(''.join(bak_st))\n",
    "        \n",
    "    print(\"=\"*80)\n",
    "\n",
    "         \n",
    "print(f\"res = {lst_ok}\" )        \n",
    "print(\"\\n nbre de lignes Ok : \", len(lst_ok)  )\n",
    "\n"
   ]
  },
  {
   "cell_type": "code",
   "execution_count": null,
   "id": "82c727d7",
   "metadata": {},
   "outputs": [],
   "source": []
  }
 ],
 "metadata": {
  "kernelspec": {
   "display_name": "Python 3 (ipykernel)",
   "language": "python",
   "name": "python3"
  },
  "language_info": {
   "codemirror_mode": {
    "name": "ipython",
    "version": 3
   },
   "file_extension": ".py",
   "mimetype": "text/x-python",
   "name": "python",
   "nbconvert_exporter": "python",
   "pygments_lexer": "ipython3",
   "version": "3.12.3"
  }
 },
 "nbformat": 4,
 "nbformat_minor": 5
}
